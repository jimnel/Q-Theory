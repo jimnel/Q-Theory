{
 "cells": [
  {
   "cell_type": "code",
   "execution_count": 1,
   "id": "941ddcfc-8e5a-47ac-9793-1cf9b8b2809c",
   "metadata": {},
   "outputs": [],
   "source": [
    "import heisenberg as hq"
   ]
  },
  {
   "cell_type": "code",
   "execution_count": 2,
   "id": "2ef8ca35-ebe6-4fcb-95d0-3c31b2b29dce",
   "metadata": {},
   "outputs": [
    {
     "data": {
      "text/plain": [
       "array([[0., 1.],\n",
       "       [1., 0.]])"
      ]
     },
     "execution_count": 2,
     "metadata": {},
     "output_type": "execute_result"
    }
   ],
   "source": [
    "hq.I @ hq.X"
   ]
  },
  {
   "cell_type": "code",
   "execution_count": 4,
   "id": "f46fbbfd-a05d-4196-8a6d-06593199acbc",
   "metadata": {},
   "outputs": [
    {
     "name": "stdout",
     "output_type": "stream",
     "text": [
      "\u001b[1m============================= test session starts ==============================\u001b[0m\n",
      "platform darwin -- Python 3.12.7, pytest-7.4.4, pluggy-1.0.0\n",
      "rootdir: /Users/jnelson/Q-Theory\n",
      "plugins: anyio-4.2.0\n",
      "collected 0 items / 1 error                                                    \u001b[0m\n",
      "\n",
      "==================================== ERRORS ====================================\n",
      "\u001b[31m\u001b[1m_____________________ ERROR collecting tests/pauli_test.py _____________________\u001b[0m\n",
      "\u001b[31mImportError while importing test module '/Users/jnelson/Q-Theory/tests/pauli_test.py'.\n",
      "Hint: make sure your test modules/packages have valid Python names.\n",
      "Traceback:\n",
      "\u001b[1m\u001b[31m../anaconda3/lib/python3.12/importlib/__init__.py\u001b[0m:90: in import_module\n",
      "    \u001b[94mreturn\u001b[39;49;00m _bootstrap._gcd_import(name[level:], package, level)\u001b[90m\u001b[39;49;00m\n",
      "\u001b[1m\u001b[31mtests/pauli_test.py\u001b[0m:7: in <module>\n",
      "    \u001b[94mimport\u001b[39;49;00m \u001b[04m\u001b[96mheisenberg\u001b[39;49;00m\u001b[90m\u001b[39;49;00m\n",
      "\u001b[1m\u001b[31mE   ModuleNotFoundError: No module named 'heisenberg'\u001b[0m\u001b[0m\n",
      "\u001b[36m\u001b[1m=========================== short test summary info ============================\u001b[0m\n",
      "\u001b[31mERROR\u001b[0m tests/pauli_test.py\n",
      "!!!!!!!!!!!!!!!!!!!! Interrupted: 1 error during collection !!!!!!!!!!!!!!!!!!!!\n",
      "\u001b[31m=============================== \u001b[31m\u001b[1m1 error\u001b[0m\u001b[31m in 0.04s\u001b[0m\u001b[31m ===============================\u001b[0m\n"
     ]
    }
   ],
   "source": [
    "!pytest"
   ]
  },
  {
   "cell_type": "code",
   "execution_count": null,
   "id": "f4659d01-6700-4a51-b623-ff20789299b8",
   "metadata": {},
   "outputs": [],
   "source": []
  }
 ],
 "metadata": {
  "kernelspec": {
   "display_name": "Python 3 (ipykernel)",
   "language": "python",
   "name": "python3"
  },
  "language_info": {
   "codemirror_mode": {
    "name": "ipython",
    "version": 3
   },
   "file_extension": ".py",
   "mimetype": "text/x-python",
   "name": "python",
   "nbconvert_exporter": "python",
   "pygments_lexer": "ipython3",
   "version": "3.12.7"
  }
 },
 "nbformat": 4,
 "nbformat_minor": 5
}
