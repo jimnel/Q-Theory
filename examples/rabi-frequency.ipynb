{
 "cells": [
  {
   "cell_type": "markdown",
   "id": "b91b825f-b01d-4db2-8a06-a41e915e109b",
   "metadata": {},
   "source": [
    "# Rabi Oscillations"
   ]
  },
  {
   "cell_type": "markdown",
   "id": "57d2817a-fe66-473b-97ba-58834969a4ca",
   "metadata": {},
   "source": [
    "## Electric Dipole Energy"
   ]
  },
  {
   "cell_type": "markdown",
   "id": "400edae9-41f0-4d1b-9ed4-0d8e260ef5ce",
   "metadata": {},
   "source": [
    "https://en.wikipedia.org/wiki/Rabi_frequency\n",
    "\n",
    "Consider two level system $\\{|g\\rangle, |e\\rangle\\}$ with an electromagnetic field $\\textbf{E}(t)=\\textbf{E}_0 \\cos(\\omega t)$ and $V(t)=e\\textbf{r}\\cdot \\textbf{E}(t)$\n",
    "\n",
    "Try an ansatz of \n",
    "$$|\\psi(t)\\rangle = c_g(t) e^{-ie_gt/\\hbar}|g\\rangle + c_e(t) e^{-ie_et/\\hbar}|e\\rangle$$\n",
    "\n",
    "We get\n",
    "$$\n",
    "\\begin{split}\n",
    "i\\hbar \\dot c_g(t) e^{-ie_gt/\\hbar}|g\\rangle + i\\hbar \\dot c_e(t) e^{-ie_et/\\hbar}|e\\rangle + e_g c_g(t) e^{-ie_gt/\\hbar}|g\\rangle + e_e c_e(t) e^{-ie_et/\\hbar}|e\\rangle &= c_g(t) e_ge^{-ie_gt/\\hbar}|g\\rangle + c_e(t) e^{-ie_et/\\hbar}e_e|e\\rangle + c_g(t) e^{-ie_gt/\\hbar}e\\textbf{r}\\cdot \\textbf{E}(t)|g\\rangle + c_e(t) e^{-ie_et/\\hbar}e\\textbf{r}\\cdot \\textbf{E}(t)|e\\rangle \\\\\n",
    "i\\hbar\\dot c_g(t) &= c_g(t) e\\cos(\\omega t) \\langle g|\\textbf{r}\\cdot \\textbf{E}_0|g\\rangle + c_e(t) e^{i(e_g-e_e)t/\\hbar}e\\cos(\\omega t)\\langle g|\\textbf{r}\\cdot \\textbf{E}_0|e\\rangle \\\\\n",
    "i\\hbar\\dot c_e(t) &= c_e(t) e\\cos(\\omega t) \\langle e|\\textbf{r}\\cdot \\textbf{E}_0|e\\rangle + c_g(t) e^{i(e_e-e_g)t/\\hbar}e\\cos(\\omega t)\\langle e|\\textbf{r}\\cdot \\textbf{E}_0|g\\rangle \\\\\n",
    "\\end{split}\n",
    "$$\n",
    "We find $\\langle g|\\textbf{r}\\cdot \\textbf{E}_0|g\\rangle=\\langle e|\\textbf{r}\\cdot \\textbf{E}_0|e\\rangle=0$ and define $\\Omega=\\langle g|\\textbf{r}\\cdot \\textbf{E}_0|e\\rangle e/\\hbar$ and $\\omega_0=(e_e-e_g)/\\hbar$. Thus\n",
    "\n",
    "$$\n",
    "\\begin{split}\n",
    "i \\dot c_g(t) &= c_e(t) e^{-i\\omega_0 t} \\cos(\\omega t) \\Omega \\\\\n",
    "i \\dot c_e(t) &= c_g(t) e^{i\\omega_0 t} \\cos(\\omega t) \\Omega^* \\\\\n",
    "\\end{split}\n",
    "$$\n",
    "Or\n",
    "$$\n",
    "\\begin{split}\n",
    "i \\dot c_g(t) &= \\frac{c_e(t)\\Omega}{2} [e^{i(\\omega -\\omega_0)t} + e^{-i(\\omega +\\omega_0)t}] \\\\\n",
    "i \\dot c_e(t) &= \\frac{c_g(t)\\Omega^*}{2} [e^{i(\\omega +\\omega_0)t} + e^{-i(\\omega -\\omega_0)t}]\\\\\n",
    "\\end{split}\n",
    "$$\n",
    "Let $\\Delta=\\omega -\\omega_0$ be the detuning\n",
    "$$\n",
    "\\begin{split}\n",
    "i \\dot c_g(t) &= \\frac{c_e(t)\\Omega}{2} [e^{i\\Delta t} + e^{-i(\\omega +\\omega_0)t}] \\\\\n",
    "i \\dot c_e(t) &= \\frac{c_g(t)\\Omega^*}{2} [e^{i(\\omega +\\omega_0)t} + e^{-i\\Delta t}]\\\\\n",
    "\\end{split}\n",
    "$$\n"
   ]
  },
  {
   "cell_type": "markdown",
   "id": "0284af09-1a14-4ec6-bedf-5596294e3df3",
   "metadata": {},
   "source": [
    "$$\n",
    "\\frac{d}{dt}\n",
    "\\begin{pmatrix}\n",
    "c_g(t)\\\\ c_e(t)\\\\\n",
    "\\end{pmatrix}\n",
    "=\n",
    "-i \\cos(\\omega t)\n",
    "\\begin{pmatrix}\n",
    "0 & \\Omega e^{-i\\omega_0 t} \\\\ \n",
    "\\Omega^* e^{i\\omega_0 t} & 0\\\\\n",
    "\\end{pmatrix}\n",
    "\\begin{pmatrix}\n",
    "c_g(t)\\\\ c_e(t)\\\\\n",
    "\\end{pmatrix}\n",
    "$$\n",
    "Or\n",
    "$$\n",
    "\\frac{d}{dt} \\textbf{c}\n",
    "=\n",
    "-i \\cos(\\omega t)\n",
    "\\begin{pmatrix}\n",
    "0 & \\Omega e^{-i\\omega_0 t} \\\\ \n",
    "\\Omega^* e^{i\\omega_0 t} & 0\\\\\n",
    "\\end{pmatrix}\n",
    "\\textbf{c}\n",
    "$$\n"
   ]
  },
  {
   "cell_type": "code",
   "execution_count": 1,
   "id": "f3e26c17-f4c2-4b90-9920-977fca0dcbe8",
   "metadata": {},
   "outputs": [],
   "source": [
    "import numpy as np\n",
    "import matplotlib.pyplot as plt\n",
    "from scipy.integrate import solve_ivp"
   ]
  },
  {
   "cell_type": "code",
   "execution_count": 6,
   "id": "58cdeca0-960c-4a8a-a630-bac8475da5db",
   "metadata": {},
   "outputs": [],
   "source": [
    "rabi = 0.3\n",
    "omega_0 = 1.1\n",
    "omega = 1.2\n",
    "\n",
    "def rabi_matrix(t):\n",
    "    return np.array([[0., rabi*np.exp(-1j*omega_0*t)], [np.conj(rabi)*np.exp(1j*omega_0*t), 0.]])"
   ]
  },
  {
   "cell_type": "code",
   "execution_count": 8,
   "id": "a69b638f-e7f5-4834-8944-8c5fb3e4e07b",
   "metadata": {},
   "outputs": [],
   "source": [
    "def f(t, c):\n",
    "    m_t = -1j * np.cos(omega*t) * rabi_matrix(t)\n",
    "    return m_t @ c"
   ]
  },
  {
   "cell_type": "code",
   "execution_count": 13,
   "id": "3886d67a-cd71-4738-aef9-2665af239a35",
   "metadata": {},
   "outputs": [
    {
     "name": "stderr",
     "output_type": "stream",
     "text": [
      "C:\\Users\\jnels\\anaconda3\\Lib\\site-packages\\scipy\\integrate\\_ivp\\base.py:23: ComplexWarning: Casting complex values to real discards the imaginary part\n",
      "  return np.asarray(fun(t, y), dtype=dtype)\n"
     ]
    }
   ],
   "source": [
    "c_initial = np.array([1., 0.])\n",
    "c_evo = solve_ivp(f, [0., 1.], c_initial)"
   ]
  },
  {
   "cell_type": "code",
   "execution_count": 18,
   "id": "a2fee9fb-647b-4d35-b034-7e7e91aa6914",
   "metadata": {},
   "outputs": [
    {
     "data": {
      "text/plain": [
       "array([0.00000000e+00, 1.64999999e-09, 1.99649889e-07, 2.03284957e-05,\n",
       "       2.02506876e-03, 9.00083554e-02, 1.01000098e-01])"
      ]
     },
     "execution_count": 18,
     "metadata": {},
     "output_type": "execute_result"
    }
   ],
   "source": [
    "c_evo.y[1, :]"
   ]
  }
 ],
 "metadata": {
  "kernelspec": {
   "display_name": "Python 3 (ipykernel)",
   "language": "python",
   "name": "python3"
  },
  "language_info": {
   "codemirror_mode": {
    "name": "ipython",
    "version": 3
   },
   "file_extension": ".py",
   "mimetype": "text/x-python",
   "name": "python",
   "nbconvert_exporter": "python",
   "pygments_lexer": "ipython3",
   "version": "3.12.7"
  }
 },
 "nbformat": 4,
 "nbformat_minor": 5
}
