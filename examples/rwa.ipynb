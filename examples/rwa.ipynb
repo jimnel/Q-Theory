{
 "cells": [
  {
   "cell_type": "code",
   "execution_count": 2,
   "id": "958cbb1b-dce5-4bd3-8e81-01c018493455",
   "metadata": {},
   "outputs": [
    {
     "name": "stderr",
     "output_type": "stream",
     "text": [
      "/Users/jnelson/Q-Theory/heisenberg/time_evolution/integrator.py:29: SyntaxWarning: invalid escape sequence '\\d'\n",
      "  \"\"\"\n"
     ]
    }
   ],
   "source": [
    "import numpy as np\n",
    "import matplotlib.pyplot as plt\n",
    "import heisenberg\n",
    "from scipy.linalg import expm"
   ]
  },
  {
   "cell_type": "markdown",
   "id": "dcd80e48",
   "metadata": {},
   "source": [
    "Electromagentic field energy is\n",
    "$$ V(t) = e\\textbf{r}\\cdot \\textbf{E} \\cos(\\omega t) = \\sum_{s,s'=g, e}|s\\rangle\\langle s|  e\\textbf{r}\\cdot \\textbf{E} \\cos(\\omega t)|s'\\rangle\\langle s'|$$\n",
    "From symmetery we have $\\langle s|  e\\textbf{r}\\cdot \\textbf{E}|s\\rangle=0$\n",
    "and hence\n",
    "$$ V(t) = \\langle g|  e\\textbf{r}\\cdot \\textbf{E} |e\\rangle \\cos(\\omega t) |g\\rangle\\langle e| + \\langle e|  e\\textbf{r}\\cdot \\textbf{E} |g\\rangle \\cos(\\omega t) |e\\rangle\\langle g|$$\n",
    "Let $\\Omega \\hbar=\\langle e|  e\\textbf{r}\\cdot \\textbf{E} |g\\rangle$\n",
    "then\n",
    "$$ V(t) = \\Omega^* \\hbar \\cos(\\omega t) |g\\rangle\\langle e| + \\Omega \\hbar \\cos(\\omega t) |e\\rangle\\langle g|$$\n",
    "\n",
    "\n",
    "$$ H = E_e|e\\rangle\\langle e| + E_g|g\\rangle\\langle g| + \\Omega^* \\hbar \\cos(\\omega t) |g\\rangle\\langle e| + \\Omega \\hbar \\cos(\\omega t) |e\\rangle\\langle g|$$\n",
    "\n",
    "$$ H = E_e|e\\rangle\\langle e| + E_g|g\\rangle\\langle g| + \\Omega^* \\hbar \\cos(\\omega t) |g\\rangle\\langle e| + \\Omega \\hbar \\cos(\\omega t) |e\\rangle\\langle g| -(E_e+/E_g) I /2$$\n",
    "\n",
    "$$ H = (E_e-E_g)/2|e\\rangle\\langle e| - (E_e-E_g)/2|g\\rangle\\langle g| + \\Omega^* \\hbar \\cos(\\omega t) |g\\rangle\\langle e| + \\Omega \\hbar \\cos(\\omega t) |e\\rangle\\langle g| $$\n",
    "Let $\\omega_0 \\hbar=(E_e-E_g)/2$ then\n",
    "$$ H = \\omega_0 \\hbar |e\\rangle\\langle e| - \\omega_0 \\hbar|g\\rangle\\langle g| + \\Omega^* \\hbar \\cos(\\omega t) |g\\rangle\\langle e| + \\Omega \\hbar \\cos(\\omega t) |e\\rangle\\langle g| $$\n"
   ]
  },
  {
   "cell_type": "code",
   "execution_count": 43,
   "id": "07916e33",
   "metadata": {},
   "outputs": [],
   "source": [
    "duration = 10.0\n",
    "sampling = heisenberg.ConstantSampling(duration, 200)\n",
    "\n",
    "class Hamiltonian(heisenberg.BaseHamiltonian):\n",
    "    def __init__(self, omega_0, gamma, omega):\n",
    "        super().__init__(2)\n",
    "        self.omega_0 = omega_0\n",
    "        self.gamma = gamma\n",
    "        self.omega = omega\n",
    "\n",
    "        self.h_diag = np.array([[-omega_0, 0.], [0., omega_0]])[None, :]\n",
    "        self.h_off_const = np.array([[0., np.conj(gamma)], [gamma, 0.]])[None, :]\n",
    "\n",
    "    def sample(self, t):\n",
    "        return self.h_diag + self.h_off_const * np.cos(self.omega * t) [:, None, None]\n",
    "\n",
    "\n",
    "h = Hamiltonian(omega_0=10.0, gamma=0.5, omega=.2)"
   ]
  },
  {
   "cell_type": "code",
   "execution_count": 44,
   "id": "7e6030c5",
   "metadata": {},
   "outputs": [
    {
     "name": "stdout",
     "output_type": "stream",
     "text": [
      "(200, 2, 2) (1, 2, 2) (200, 2, 2)\n"
     ]
    }
   ],
   "source": [
    "unitaries = heisenberg.rk4_unitaries(sampling, h)"
   ]
  },
  {
   "cell_type": "code",
   "execution_count": 45,
   "id": "00e58673",
   "metadata": {},
   "outputs": [],
   "source": [
    "initial_state = np.array([[1.0], [0.]])\n",
    "evo_states = heisenberg.propagate(initial_state, unitaries)"
   ]
  },
  {
   "cell_type": "code",
   "execution_count": 46,
   "id": "dd64345d",
   "metadata": {},
   "outputs": [
    {
     "data": {
      "text/plain": [
       "[<matplotlib.lines.Line2D at 0x143c69450>]"
      ]
     },
     "execution_count": 46,
     "metadata": {},
     "output_type": "execute_result"
    },
    {
     "data": {
      "image/png": "[encoded data removed]",
      "text/plain": [
       "<Figure size 640x480 with 1 Axes>"
      ]
     },
     "metadata": {},
     "output_type": "display_data"
    }
   ],
   "source": [
    "probs = np.real(np.conj(evo_states) * evo_states)\n",
    "times = sampling.get_grid()\n",
    "\n",
    "plt.plot(times, probs[:, 0, 0])\n",
    "\n",
    "plt.plot(times, probs[:, 1, 0])"
   ]
  }
 ],
 "metadata": {
  "kernelspec": {
   "display_name": "q-env",
   "language": "python",
   "name": "python3"
  },
  "language_info": {
   "codemirror_mode": {
    "name": "ipython",
    "version": 3
   },
   "file_extension": ".py",
   "mimetype": "text/x-python",
   "name": "python",
   "nbconvert_exporter": "python",
   "pygments_lexer": "ipython3",
   "version": "3.13.2"
  }
 },
 "nbformat": 4,
 "nbformat_minor": 5
}
