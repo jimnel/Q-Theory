{
 "cells": [
  {
   "cell_type": "markdown",
   "id": "0efeb6a1-18a7-4e5a-8904-91f05ed1ff5b",
   "metadata": {},
   "source": [
    "## Rk4 Algorithm:"
   ]
  },
  {
   "cell_type": "markdown",
   "id": "bf7eb701-2e20-4d0c-86d1-a247bcf57dbc",
   "metadata": {},
   "source": [
    "Suppose the equation is in the form\n",
    "$$ \\dot y = f(t)y $$\n",
    "\n",
    "Then\n",
    "$$y_{n+1} = y_n\\left(1+ h\\frac{l_1+2l_2+2l_3+l_4}{6} \\right)$$\n",
    "with\n",
    "$$\n",
    "\\begin{split}\n",
    "l_1 &= f(t_n) \\\\\n",
    "l_2 &= f(t_n+h/2) (1+h l_1 /2) \\\\\n",
    "l_3 &= f(t_n+h/2) (1+h l_2/2) \\\\\n",
    "l_4 &= f(t_n+h) (1+h l_3) \\\\\n",
    "\\end{split}\n",
    "$$"
   ]
  },
  {
   "cell_type": "code",
   "execution_count": 1,
   "id": "958cbb1b-dce5-4bd3-8e81-01c018493455",
   "metadata": {},
   "outputs": [],
   "source": [
    "import numpy as np\n",
    "import matplotlib.pyplot as plt\n",
    "import heisenberg\n",
    "from scipy.linalg import expm"
   ]
  },
  {
   "cell_type": "markdown",
   "id": "e2bb22a9",
   "metadata": {},
   "source": [
    "## Test 1: Scalar function\n",
    "\n",
    "$$\\dot y = f(t) y$$\n",
    "which implies\n",
    "$$y(t) = y(0) e^{\\int_0^t dt f(t)} $$"
   ]
  },
  {
   "cell_type": "code",
   "execution_count": 2,
   "id": "11446b07",
   "metadata": {},
   "outputs": [],
   "source": [
    "def g(t):\n",
    "    return np.sin(t)\n",
    "\n",
    "def f(t, y):\n",
    "    return g(t) * y\n",
    "\n",
    "\n",
    "def analytic(t, y0):\n",
    "    return y0 * np.exp(1.-np.cos(t))\n",
    "\n",
    "duration = 10.0\n",
    "y_0 = 1."
   ]
  },
  {
   "cell_type": "code",
   "execution_count": 3,
   "id": "07916e33",
   "metadata": {},
   "outputs": [],
   "source": [
    "sampling = heisenberg.ConstantSampling(duration, 20)\n",
    "\n",
    "class Hamiltonian(heisenberg.BaseHamiltonian):\n",
    "    def __init__(self, dim):\n",
    "        super().__init__(dim)\n",
    "    def sample(self, t):\n",
    "        return 1j * np.ones((1, self.dim, self.dim)) * g(t)[:, None, None]  # Multiply by 1j as integrator expects S-Eqn form.\n",
    "\n",
    "h = Hamiltonian(dim = 1)"
   ]
  },
  {
   "cell_type": "code",
   "execution_count": 4,
   "id": "7e6030c5",
   "metadata": {},
   "outputs": [
    {
     "name": "stdout",
     "output_type": "stream",
     "text": [
      "(20, 1, 1) (1, 1, 1) (20, 1, 1)\n"
     ]
    }
   ],
   "source": [
    "unitaries = heisenberg.rk4_unitaries(sampling, h)\n",
    "evo_states = heisenberg.propagate(np.array([[y_0]]), unitaries).flatten()"
   ]
  },
  {
   "cell_type": "code",
   "execution_count": 6,
   "id": "00e58673",
   "metadata": {},
   "outputs": [
    {
     "name": "stdout",
     "output_type": "stream",
     "text": [
      "[0. 0. 0. 0. 0. 0. 0. 0. 0. 0. 0. 0. 0. 0. 0. 0. 0. 0. 0. 0. 0.]\n"
     ]
    }
   ],
   "source": [
    "print(np.imag(evo_states))"
   ]
  },
  {
   "cell_type": "code",
   "execution_count": 5,
   "id": "dd64345d",
   "metadata": {},
   "outputs": [
    {
     "name": "stderr",
     "output_type": "stream",
     "text": [
      "/Users/jnelson/anaconda3/envs/q-env/lib/python3.13/site-packages/matplotlib/cbook.py:1719: ComplexWarning: Casting complex values to real discards the imaginary part\n",
      "  return math.isfinite(val)\n",
      "/Users/jnelson/anaconda3/envs/q-env/lib/python3.13/site-packages/matplotlib/cbook.py:1355: ComplexWarning: Casting complex values to real discards the imaginary part\n",
      "  return np.asarray(x, float)\n"
     ]
    },
    {
     "data": {
      "image/png": "[encoded data removed]",
      "text/plain": [
       "<Figure size 640x480 with 1 Axes>"
      ]
     },
     "metadata": {},
     "output_type": "display_data"
    }
   ],
   "source": [
    "times = sampling.get_grid()\n",
    "plt.plot(times, evo_states)\n",
    "plt.plot(times, analytic(times, y_0))\n",
    "plt.show()"
   ]
  },
  {
   "cell_type": "markdown",
   "id": "55dae923-f6d7-40a7-aa07-f87d504f7a65",
   "metadata": {},
   "source": [
    "## Test 2: Constant Hamiltonian"
   ]
  },
  {
   "cell_type": "code",
   "execution_count": 11,
   "id": "5907ded3-4d05-4240-9e2c-95c2c82a9187",
   "metadata": {},
   "outputs": [],
   "source": [
    "dim = 3\n",
    "hamiltonian_mat = np.random.rand(dim, dim) + 1j * np.random.rand(dim, dim)\n",
    "hamiltonian_mat += np.conj(hamiltonian_mat.T)"
   ]
  },
  {
   "cell_type": "code",
   "execution_count": 12,
   "id": "8dff7e80",
   "metadata": {},
   "outputs": [
    {
     "data": {
      "text/plain": [
       "array([ 3.2229445 -2.81329128e-17j, -0.64099027-1.29868022e-17j,\n",
       "        0.9110313 +1.24386442e-16j])"
      ]
     },
     "execution_count": 12,
     "metadata": {},
     "output_type": "execute_result"
    }
   ],
   "source": [
    "np.linalg.eig(hamiltonian_mat).eigenvalues"
   ]
  },
  {
   "cell_type": "code",
   "execution_count": 22,
   "id": "1082755f-8af7-43af-a23b-3d6a66724e4b",
   "metadata": {},
   "outputs": [],
   "source": [
    "duration = 1.0\n",
    "\n",
    "sampling = heisenberg.ConstantSampling(duration, 20)\n",
    "\n",
    "class Hamiltonian(heisenberg.BaseHamiltonian):\n",
    "    def __init__(self, dim):\n",
    "        super().__init__(dim)\n",
    "    def sample(self, t):\n",
    "        return hamiltonian_mat[None, :] * np.ones(len(t))[:, None, None]\n",
    "\n",
    "h = Hamiltonian(dim = dim)"
   ]
  },
  {
   "cell_type": "code",
   "execution_count": 23,
   "id": "c0c96aa8",
   "metadata": {},
   "outputs": [],
   "source": [
    "initial_state = np.array([[1.0], [0.0], [0.0]])"
   ]
  },
  {
   "cell_type": "code",
   "execution_count": 24,
   "id": "89cfa570-a8d5-4909-bee8-117266c0b1e7",
   "metadata": {},
   "outputs": [
    {
     "name": "stdout",
     "output_type": "stream",
     "text": [
      "(20, 3, 3) (1, 3, 3) (20, 3, 3)\n"
     ]
    },
    {
     "data": {
      "text/plain": [
       "array([[[ 1.        +0.j        ],\n",
       "        [ 0.        +0.j        ],\n",
       "        [ 0.        +0.j        ]],\n",
       "\n",
       "       [[ 0.99598704-0.03078096j],\n",
       "        [-0.00593154-0.01154245j],\n",
       "        [ 0.02928102-0.07769481j]],\n",
       "\n",
       "       [[ 0.98404148-0.0604224j ],\n",
       "        [-0.01596118-0.02326359j],\n",
       "        [ 0.04854988-0.1576652j ]],\n",
       "\n",
       "       [[ 0.96444063-0.08781453j],\n",
       "        [-0.03006939-0.03445345j],\n",
       "        [ 0.05754389-0.23820197j]],\n",
       "\n",
       "       [[ 0.93763871-0.1119063j ],\n",
       "        [-0.04811889-0.04441256j],\n",
       "        [ 0.05627494-0.31757769j]],\n",
       "\n",
       "       [[ 0.90425521-0.13173275j],\n",
       "        [-0.06985784-0.05247083j],\n",
       "        [ 0.04502878-0.39409106j]],\n",
       "\n",
       "       [[ 0.86505886-0.14644034j],\n",
       "        [-0.094926  -0.05800571j],\n",
       "        [ 0.0243574 -0.46611061j]],\n",
       "\n",
       "       [[ 0.8209479 -0.15530918j],\n",
       "        [-0.12286381-0.06045905j],\n",
       "        [-0.00493567-0.53211649j]],\n",
       "\n",
       "       [[ 0.77292693-0.15777193j],\n",
       "        [-0.15312393-0.05935241j],\n",
       "        [-0.04181646-0.59073953j]],\n",
       "\n",
       "       [[ 0.72208105-0.15342873j],\n",
       "        [-0.18508522-0.0543002j ],\n",
       "        [-0.08504769-0.64079624j]],\n",
       "\n",
       "       [[ 0.669548  -0.14205774j],\n",
       "        [-0.21806862-0.04502046j],\n",
       "        [-0.13322118-0.68131913j]],\n",
       "\n",
       "       [[ 0.61648887-0.12362114j],\n",
       "        [-0.25135452-0.03134299j],\n",
       "        [-0.18479464-0.71158135j]],\n",
       "\n",
       "       [[ 0.56405832-0.09826625j],\n",
       "        [-0.28420124-0.01321455j],\n",
       "        [-0.23813201-0.73111513j]],\n",
       "\n",
       "       [[ 0.5133749 -0.06632202j],\n",
       "        [-0.31586415+0.00929904j],\n",
       "        [-0.29154619-0.73972354j]],\n",
       "\n",
       "       [[ 0.46549244-0.02829064j],\n",
       "        [-0.34561487+0.03601371j],\n",
       "        [-0.34334307-0.73748518j]],\n",
       "\n",
       "       [[ 0.42137306+0.0151652j ],\n",
       "        [-0.37276002+0.06663124j],\n",
       "        [-0.39186583-0.7247518j ]],\n",
       "\n",
       "       [[ 0.3818626 +0.06323932j],\n",
       "        [-0.39665921+0.10074614j],\n",
       "        [-0.43553818-0.70213877j]],\n",
       "\n",
       "       [[ 0.3476691 +0.11500267j],\n",
       "        [-0.4167416 +0.13785545j],\n",
       "        [-0.47290555-0.67050884j]],\n",
       "\n",
       "       [[ 0.31934489+0.16942722j],\n",
       "        [-0.43252073+0.17737096j],\n",
       "        [-0.50267318-0.63094935j]],\n",
       "\n",
       "       [[ 0.29727269+0.22541239j],\n",
       "        [-0.44360718+0.21863377j],\n",
       "        [-0.52373997-0.5847438j ]],\n",
       "\n",
       "       [[ 0.28165616+0.28181331j],\n",
       "        [-0.44971875+0.26093061j],\n",
       "        [-0.53522741-0.53333818j]]])"
      ]
     },
     "execution_count": 24,
     "metadata": {},
     "output_type": "execute_result"
    }
   ],
   "source": [
    "unitaries = heisenberg.rk4_unitaries(sampling, h)\n",
    "evo_states = heisenberg.propagate(initial_state, unitaries)\n",
    "evo_states"
   ]
  },
  {
   "cell_type": "code",
   "execution_count": 32,
   "id": "b67bd930",
   "metadata": {},
   "outputs": [],
   "source": [
    "def exact_sol(initial_state, times):\n",
    "    return np.array([expm(-1j * hamiltonian_mat * t) @ initial_state for t in times])\n",
    "\n",
    "exact_evo = exact_sol(initial_state, sampling.get_grid())\n",
    "exact_probs = np.real(np.conj(exact_evo) * exact_evo)"
   ]
  },
  {
   "cell_type": "code",
   "execution_count": 34,
   "id": "1b82faad",
   "metadata": {},
   "outputs": [],
   "source": [
    "probs = np.real(np.conj(evo_states) * evo_states)"
   ]
  },
  {
   "cell_type": "code",
   "execution_count": 37,
   "id": "2499ec59",
   "metadata": {},
   "outputs": [
    {
     "data": {
      "text/plain": [
       "[<matplotlib.lines.Line2D at 0x12c8d3ed0>]"
      ]
     },
     "execution_count": 37,
     "metadata": {},
     "output_type": "execute_result"
    },
    {
     "data": {
      "image/png": "[encoded data removed]",
      "text/plain": [
       "<Figure size 640x480 with 1 Axes>"
      ]
     },
     "metadata": {},
     "output_type": "display_data"
    }
   ],
   "source": [
    "times = sampling.get_grid()\n",
    "\n",
    "plt.plot(times, probs[:, 0, 0])\n",
    "plt.plot(times, exact_probs[:, 0, 0], ls='--')\n",
    "\n",
    "plt.plot(times, probs[:, 1, 0])\n",
    "plt.plot(times, exact_probs[:, 1, 0], ls='--')\n",
    "\n",
    "plt.plot(times, probs[:, 2, 0])\n",
    "plt.plot(times, exact_probs[:, 2, 0], ls='--')\n"
   ]
  }
 ],
 "metadata": {
  "kernelspec": {
   "display_name": "q-env",
   "language": "python",
   "name": "python3"
  },
  "language_info": {
   "codemirror_mode": {
    "name": "ipython",
    "version": 3
   },
   "file_extension": ".py",
   "mimetype": "text/x-python",
   "name": "python",
   "nbconvert_exporter": "python",
   "pygments_lexer": "ipython3",
   "version": "3.13.2"
  }
 },
 "nbformat": 4,
 "nbformat_minor": 5
}
